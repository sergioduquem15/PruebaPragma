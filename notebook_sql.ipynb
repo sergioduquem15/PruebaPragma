{
 "cells": [
  {
   "cell_type": "markdown",
   "metadata": {},
   "source": [
    "# Prueba de Data Enginieer PRAGMA\n",
    "\\\n",
    "**Realizado por: Sergio Duque Mejía**\n",
    "\\\n",
    "**cedula: 1036654435**\n",
    "\n",
    "En el presente Notebook se muestra la solución realizada para la prueba de acercamiento al rol de Data Enginieer, el codigo se encuentra comentado y ademas se especifica el por que se utilizo liberias y algunos pasos especificos para poder integrar desde Python3 el pipeline que permite conectar desde el lenguaje a MySQL.\n",
    "\n",
    "### Esquema de la carpeta del proyecto:\n",
    "Pragma prueba (carpeta)\n",
    "\\\n",
    "-----| notebook_sql.ipynb (notebook)\n",
    "\\\n",
    "-----| dataPruebaDataEngineer (carpeta)\n",
    "\\\n",
    "----------| 2012-1.csv \n",
    "\\\n",
    "----------| 2012-2.csv \n",
    "\\\n",
    "----------| 2012-3.csv \n",
    "\\\n",
    "----------| 2012-4.csv \n",
    "\\\n",
    "----------| 2012-5.csv \n",
    "\\\n",
    "----------| validation.csv \n",
    "\n",
    "### Schema de tabla en MySQL:\n",
    "Antes de realizar el proyecto que se muestra en el notebook se creo una base de datos y una tabla basada en el schema que vi conveniente para realizar el proyecto.\n",
    "\n",
    "CREATE SCHEMA `pragma_prueba`;\n",
    "\n",
    "CREATE TABLE `events` (\n",
    "\\\n",
    "  `event_id` int NOT NULL AUTO_INCREMENT,\n",
    "\\\n",
    "  `timestamp` timestamp NOT NULL,\n",
    "\\\n",
    "  `price` double DEFAULT NULL,\n",
    "\\\n",
    "  `user_id` int NOT NULL,\n",
    "\\\n",
    "  `filename` varchar(20) NOT NULL,\n",
    "\\\n",
    "  PRIMARY KEY (`event_id`)\n",
    "\\  \n",
    ") ENGINE=InnoDB AUTO_INCREMENT=2030 DEFAULT CHARSET=utf8mb4 COLLATE=utf8mb4_0900_ai_ci\n",
    "\n",
    "##### Donde:\n",
    "* `event_id`: llave primaria, no nula, entera y auto incrementable.\n",
    "* `timestamp`: columna temporal en formato TIMESTAMP, no nula.\n",
    "* `price`: columna definida como double, puede ser nula.\n",
    "* `user_id`: columna que representa el id del usuario, entera y no nula.\n",
    "* `filename`: columna que indica el nombre del archivo de donde se extrajo la informacion, tipo texto con 20 caracteres como limite, no nula.\n"
   ]
  },
  {
   "cell_type": "markdown",
   "metadata": {},
   "source": [
    "# Librerias utilizadas en Python"
   ]
  },
  {
   "cell_type": "code",
   "execution_count": 10,
   "metadata": {},
   "outputs": [],
   "source": [
    "import pymysql # libreria que sirve para conectar MySQL y realizar consultas y en general usar todo el lenguaje SQL desde Python3\n",
    "import pandas as pd # libreria que se utilizo para manipulacion de tablas en Python y convercion a tipos TIMESTAMP\n",
    "import numpy as np # libreria que se utilizo para manipular arrays en Python.\n",
    "import os # liberia que se utilizo para adquirir listado de archivos dentro de la carpeta del proyecto.\n",
    "\n",
    "import warnings # permite que no aparezca warnings especificos.\n",
    "from pandas.core.common import SettingWithCopyWarning # en este caso se evita el warning de tipo SettingWithCopyWarning \n",
    "warnings.simplefilter(action=\"ignore\", category=SettingWithCopyWarning) # que es debido a un modulo desactualizado de la libreria pandas."
   ]
  },
  {
   "cell_type": "markdown",
   "metadata": {},
   "source": [
    "### Codigo:"
   ]
  },
  {
   "cell_type": "code",
   "execution_count": 3,
   "metadata": {},
   "outputs": [],
   "source": [
    "archivo = os.listdir('dataPruebaDataEngineer/') # Obtiene una lista de los archivos dentro de la carpeta dataPruebaDataEngineer\n",
    "not_included = ['validation.csv'] # Se genera una lista de documentos que no se desean evaluar.\n",
    "for i in not_included:\n",
    "    archivo.remove(i) # remueve los elementos de la lista que se evaluara."
   ]
  },
  {
   "cell_type": "code",
   "execution_count": 21,
   "metadata": {},
   "outputs": [],
   "source": [
    "def pipeline_prueba(archivo):\n",
    "    '''\n",
    "    Funcion que permite conexion con MySQL, carga los datos, los almacena en la base de datos previamente construida y con los\n",
    "    datos almacenados en memoria se realiza un estudio de seguimiento respecto a:\n",
    "            - Count o recuento de eventos durante el mes\n",
    "            - Valor medio o promedio del mes\n",
    "            - Valor minimo de la columna price durante el mes\n",
    "            - Valor maximo de la columna price durante el mes\n",
    "    Finalmente imprime los resultados obtenidos del seguimiento y se observa en la base de datos: \"pragma_prueba\" los datos almacenados.\n",
    "    '''\n",
    "    db = pymysql.connect( # conexion con host local creado para pruebas.\n",
    "            host='localhost', # nombre del host local\n",
    "            user='root', # usuario\n",
    "            password='root', # contraseña\n",
    "            db='pragma_prueba' # base de datos\n",
    "        )\n",
    "\n",
    "    cursor = db.cursor() # construye un cursor que permite realizar los query en MySQL\n",
    " \n",
    "    for i in range(len(archivo)): # bucle que se mueve en el rango de la longitud de los archivos a evaluar\n",
    "        \n",
    "        temp = pd.read_csv(f\"dataPruebaDataEngineer/{archivo[i]}\") # carga los datos de cada archivo en la secuencia del bucle.\n",
    "        temp_df = temp.copy() # realiza una copia de los datos.\n",
    "        temp_df[\"filename\"] = archivo[i] # crea la columna filename que permite almacenar el nombre del archivo de donde se extrae la informacion.\n",
    "        temp_df.fillna(0,inplace=True) # Debido a que python no permite caracteres de tipo null y el mas similar es nan que no lo permite sql\n",
    "        # ademas de que los null se encuentran en price, se decidio tomar esos valores como 0 debido a que no aportan para los resultados del promedio.\n",
    "        for j in range(len(temp_df)): # bucle que se mueve en cada dato de la columna de timestamp\n",
    "            temp_df.timestamp[j] = pd.Timestamp(temp_df.timestamp[j]) # permite a cada dato de timestamp cambiarlo de string a type(TIMESTAMP)\n",
    "        \n",
    "        values = temp_df.to_numpy() # recolecta los datos de cada fila de la carga de archivos.\n",
    "        sql = \"INSERT INTO events(timestamp,price,user_id,filename) VALUES \"+\",\".join(\"(%s,%s,%s,%s)\" for _ in values) # realiza INSERT INTO para agregar los\n",
    "        # datos en la tabla construida en MySQL, envia en una sola linea todos los datos recolectados.\n",
    "        fl_v = [item for sublist in values for item in sublist] # flatten de la variable values que permite usar los datos recolectados.\n",
    "\n",
    "        cursor.execute(sql,fl_v) # ejecucion de sentencia SQL, donde se especifica la consulta y los datos.\n",
    "        db.commit() # commit de la sentencia SQL\n",
    "\n",
    "\n",
    "        #Debido que piden no utilizar los datos de la base de datos sino los almacenados en memoria\n",
    "        # se realiza el seguimiento de estadistica a los valores almacenados en memoria que se encuentran en temp_df.\n",
    "        count_events = temp_df.price.count() # cuenta cuantos eventos hubo en el mes\n",
    "        temp_price = temp_df[temp_df.price != 0.0] # debido a que 0.0 no es el minimo sino un numero vacio, se toman solo los valores que no sean 0.0 en price\n",
    "        min_price = temp_price.price.min() # mide el minimo valor de price durante el mes.\n",
    "        max_price = temp_df.price.max() # mide el maximo valor de price durante el mes.\n",
    "        prom_price = temp_df.price.mean() # mide el promedio del valor price durante el mes.\n",
    "        month = temp_df.timestamp[0].month # observa el mes especificamente en que se realiza la consulta.\n",
    "        \n",
    "        # imprime el seguimiento de los datos.\n",
    "        print(\" Numero de eventos en el mes\", month,\":\", count_events, \"\\n\", \n",
    "            \"Minimo valor de price: \", min_price, \"\\n\",\n",
    "            \"Maximo valor de price: \", max_price, \"\\n\",\n",
    "            \"Valor medio de price: \", prom_price )\n",
    "        print(\"---------------------------------------\\n\")\n",
    "        \n",
    "\n",
    "    db.close() # Una vez finalizado el almacenado en la base de datos, se cierra la base de datos por seguridad."
   ]
  },
  {
   "cell_type": "code",
   "execution_count": 27,
   "metadata": {},
   "outputs": [
    {
     "name": "stdout",
     "output_type": "stream",
     "text": [
      " Numero de eventos en el mes 1 : 22 \n",
      " Minimo valor de price:  14.0 \n",
      " Maximo valor de price:  97.0 \n",
      " Valor medio de price:  54.22727272727273\n",
      "---------------------------------------\n",
      "\n",
      " Numero de eventos en el mes 2 : 29 \n",
      " Minimo valor de price:  10 \n",
      " Maximo valor de price:  100 \n",
      " Valor medio de price:  54.827586206896555\n",
      "---------------------------------------\n",
      "\n",
      " Numero de eventos en el mes 3 : 31 \n",
      " Minimo valor de price:  12 \n",
      " Maximo valor de price:  99 \n",
      " Valor medio de price:  59.67741935483871\n",
      "---------------------------------------\n",
      "\n",
      " Numero de eventos en el mes 4 : 30 \n",
      " Minimo valor de price:  10.0 \n",
      " Maximo valor de price:  97.0 \n",
      " Valor medio de price:  53.56666666666667\n",
      "---------------------------------------\n",
      "\n",
      " Numero de eventos en el mes 5 : 31 \n",
      " Minimo valor de price:  13 \n",
      " Maximo valor de price:  100 \n",
      " Valor medio de price:  58.25806451612903\n",
      "---------------------------------------\n",
      "\n"
     ]
    }
   ],
   "source": [
    "pipeline_prueba(archivo) # analisis de los datos almacenados de enero a mayo, es decir, los archivos de 1 a 5."
   ]
  },
  {
   "cell_type": "code",
   "execution_count": 26,
   "metadata": {},
   "outputs": [
    {
     "name": "stdout",
     "output_type": "stream",
     "text": [
      " Numero de eventos en el mes 6 : 8 \n",
      " Minimo valor de price:  11 \n",
      " Maximo valor de price:  92 \n",
      " Valor medio de price:  41.75\n",
      "---------------------------------------\n",
      "\n"
     ]
    }
   ],
   "source": [
    "pipeline_prueba(['validation.csv']) # analisis de los datos almacenados en el conjunto de validacion."
   ]
  },
  {
   "cell_type": "markdown",
   "metadata": {},
   "source": [
    "# Codigo extra:\n",
    "permite pedir al usuario que mes desea evaluar y realiza un select desde la base de datos, es decir que evalua directamente de la base de datos."
   ]
  },
  {
   "cell_type": "code",
   "execution_count": 28,
   "metadata": {},
   "outputs": [
    {
     "name": "stdout",
     "output_type": "stream",
     "text": [
      " Numero de eventos en el mes 1 : 22 \n",
      " Minimo valor de price:  0.0 \n",
      " Maximo valor de price:  97.0 \n",
      " Valor medio de price:  54.22727272727273\n",
      "---------------------------------------\n",
      "\n"
     ]
    }
   ],
   "source": [
    "db = pymysql.connect( # conecta a la base de datos\n",
    "    host='localhost',\n",
    "    user='root',\n",
    "    password='root',\n",
    "    db='pragma_prueba'\n",
    ")\n",
    "\n",
    "cursor = db.cursor() # crea el cursos para obtener consultas desde python en MySQL\n",
    "\n",
    "inp = int(input()) # pide al usuario un valor entero\n",
    "if inp <= len(archivo): sql = \"SELECT * FROM events WHERE filename = '2012-{}.csv'\".format(inp) # si el valor se encuentra en la longitud de los archivos\n",
    "# realiza la consulta.\n",
    "\n",
    "cursor.execute(sql) # ejecuta el select, que trae todos los datos especificados en el filename\n",
    "results = cursor.fetchall() # guarda los resultados de la consulta.\n",
    "\n",
    "event = [] # lista vacia que almacena los datos selecionados.\n",
    "for row in results: # recorre cada fila de los resultados por columna dentro de la base de datos.\n",
    "    event_id = row[0] \n",
    "    timestamp = row[1]\n",
    "    price = row[2]\n",
    "    user_id = row[3]\n",
    "    filename = row[4]\n",
    "\n",
    "    event.append([event_id,timestamp,price,user_id,filename]) # Almacena los datos en la lista vacia.\n",
    "\n",
    "df1 = pd.DataFrame(event,columns=[\"event_id\",\"timestamp\",\"price\",\"user_id\",\"filename\"]) # crea un dataframe que contenga los eventos.\n",
    "count_events = df1.price.count() # cuenta el numero de eventos\n",
    "temp_price = df1[df1.price != 0.0] # debido a que 0.0 no es el minimo sino un numero vacio, se toman solo los valores que no sean 0.0 en price\n",
    "min_price = temp_price.price.min() # mide el valor minimo de price en el mes\n",
    "max_price = df1.price.max() # mide el valor maximo de price en el mes\n",
    "prom_price = df1.price.mean() # mide el valor promedio de price en el mes\n",
    "month = df1.timestamp[0].month # observa el mes especificamente en que se realiza la consulta.\n",
    "\n",
    "print(\" Numero de eventos en el mes\", month,\":\", count_events, \"\\n\", \n",
    "            \"Minimo valor de price: \", min_price, \"\\n\",\n",
    "            \"Maximo valor de price: \", max_price, \"\\n\",\n",
    "            \"Valor medio de price: \", prom_price )\n",
    "print(\"---------------------------------------\\n\")\n",
    "    \n",
    "\n",
    "db.close() # cierra la base de datos."
   ]
  },
  {
   "cell_type": "code",
   "execution_count": null,
   "metadata": {},
   "outputs": [],
   "source": []
  }
 ],
 "metadata": {
  "interpreter": {
   "hash": "641f53da7ea006dcf7a70b9aed402687529bbfe00a8ed96de5047ff3d3525b80"
  },
  "kernelspec": {
   "display_name": "Python 3.8.8 ('base')",
   "language": "python",
   "name": "python3"
  },
  "language_info": {
   "codemirror_mode": {
    "name": "ipython",
    "version": 3
   },
   "file_extension": ".py",
   "mimetype": "text/x-python",
   "name": "python",
   "nbconvert_exporter": "python",
   "pygments_lexer": "ipython3",
   "version": "3.8.8"
  },
  "orig_nbformat": 4
 },
 "nbformat": 4,
 "nbformat_minor": 2
}
